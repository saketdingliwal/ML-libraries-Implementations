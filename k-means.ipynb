{
 "cells": [
  {
   "cell_type": "code",
   "execution_count": 57,
   "metadata": {},
   "outputs": [],
   "source": [
    "from sklearn.cluster import KMeans\n",
    "import numpy as np\n",
    "import os\n",
    "from sklearn.metrics import accuracy_score"
   ]
  },
  {
   "cell_type": "code",
   "execution_count": 58,
   "metadata": {},
   "outputs": [],
   "source": [
    "train_dir = \"./data/train/\"\n",
    "test_dir = \"./data/test/\"\n",
    "out_dir = \"./output/\"\n",
    "num_clus = 20\n",
    "num_exam = 5000"
   ]
  },
  {
   "cell_type": "code",
   "execution_count": 24,
   "metadata": {},
   "outputs": [],
   "source": [
    "def read_npy(directory):\n",
    "    iterr=0\n",
    "    label = []\n",
    "    files = os.listdir(directory)\n",
    "    for file_name in files:\n",
    "        numpy_file = np.load(directory + file_name)\n",
    "        if iterr==0:\n",
    "            data = numpy_file\n",
    "        else:\n",
    "            data = np.concatenate((data,numpy_file))\n",
    "        label.append(file_name[:-4])\n",
    "        iterr+=1\n",
    "    return data,label"
   ]
  },
  {
   "cell_type": "code",
   "execution_count": 47,
   "metadata": {},
   "outputs": [],
   "source": [
    "train_data,file_labels = read_npy(train_dir)\n",
    "test_data,_ = read_npy(test_dir)\n",
    "actual_label = []\n",
    "for i in range(len(train_data)):\n",
    "    actual_label.append(i // num_exam)"
   ]
  },
  {
   "cell_type": "code",
   "execution_count": 54,
   "metadata": {},
   "outputs": [],
   "source": [
    "def predicted(predicted_cluster,cluster_to_label):\n",
    "    predicted_label = []\n",
    "    for i in range(len(predicted_cluster)):\n",
    "        predicted_label.append(cluster_to_label[predicted_cluster[i]])\n",
    "    return predicted_label"
   ]
  },
  {
   "cell_type": "code",
   "execution_count": 40,
   "metadata": {},
   "outputs": [],
   "source": [
    "max_iterr = [10,20,30,40,50,300]\n",
    "train_accur = []\n",
    "for num_iter in max_iterr:    \n",
    "    kmeans = KMeans(n_clusters=num_clus,max_iter=num_iter)\n",
    "    kmeans.fit(train_data)\n",
    "    predicted_cluster = kmeans.predict(train_data)\n",
    "    label_cluster_mat = np.zeros((num_clus,num_clus))\n",
    "    for i in range(len(predicted_cluster)):\n",
    "        cluster_no = predicted_cluster[i]\n",
    "        actual_no = actual_label[i]\n",
    "        label_cluster_mat[cluster_no][actual_no] +=1\n",
    "    cluster_to_label = []\n",
    "    for i in range(num_clus):\n",
    "        max_labels = np.argmax(label_cluster_mat[i])\n",
    "        cluster_to_label.append(max_labels)\n",
    "    predicted_label = predicted(predicted_cluster,cluster_to_label)\n",
    "    train_accuracy = accuracy_score(actual_label,predicted_label)\n",
    "    print (num_iter,train_accuracy)\n",
    "    train_accur.append(train_accuracy)\n",
    "    test_cluster = kmeans.predict(test_data)\n",
    "    test_label = predicted(test_cluster,cluster_to_label)\n",
    "    out_name = \"kmeans\"+str(num_iter)+\".csv\"\n",
    "    f = open(out_dir+out_name,\"w\")\n",
    "    f.write(\"ID,CATEGORY\\n\")\n",
    "    for i in range(len(test_label)):\n",
    "        f.write(str(i)+\",\"+file_labels[test_label[i]]+\"\\n\")    "
   ]
  },
  {
   "cell_type": "code",
   "execution_count": 67,
   "metadata": {},
   "outputs": [
    {
     "name": "stdout",
     "output_type": "stream",
     "text": [
      "1 0.26718\n"
     ]
    }
   ],
   "source": [
    "train_accuracy = accuracy_score(actual_label,predicted_label)\n",
    "print (1,train_accuracy)\n",
    "# train_accur.append(train_accuracy)\n",
    "test_cluster = kmeans.predict(test_data)\n",
    "test_label = predicted(test_cluster,cluster_to_label)\n",
    "out_name = \"kmeans\"+str(1)+\".csv\"\n",
    "f = open(out_dir+out_name,\"w\")\n",
    "f.write(\"ID,CATEGORY\\n\")\n",
    "for i in range(len(test_label)):\n",
    "    f.write(str(i)+\",\"+file_labels[test_label[i]]+\"\\n\")"
   ]
  },
  {
   "cell_type": "code",
   "execution_count": null,
   "metadata": {},
   "outputs": [],
   "source": []
  },
  {
   "cell_type": "code",
   "execution_count": null,
   "metadata": {},
   "outputs": [],
   "source": []
  },
  {
   "cell_type": "code",
   "execution_count": null,
   "metadata": {},
   "outputs": [],
   "source": []
  }
 ],
 "metadata": {
  "kernelspec": {
   "display_name": "Python 3",
   "language": "python",
   "name": "python3"
  },
  "language_info": {
   "codemirror_mode": {
    "name": "ipython",
    "version": 3
   },
   "file_extension": ".py",
   "mimetype": "text/x-python",
   "name": "python",
   "nbconvert_exporter": "python",
   "pygments_lexer": "ipython3",
   "version": "3.5.2"
  }
 },
 "nbformat": 4,
 "nbformat_minor": 2
}
